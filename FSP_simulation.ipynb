{
 "cells": [
  {
   "cell_type": "code",
   "execution_count": 1,
   "id": "c32953c4",
   "metadata": {
    "_cell_guid": "b1076dfc-b9ad-4769-8c92-a6c4dae69d19",
    "_uuid": "8f2839f25d086af736a60e9eeb907d3b93b6e0e5",
    "execution": {
     "iopub.execute_input": "2023-05-16T13:35:07.795822Z",
     "iopub.status.busy": "2023-05-16T13:35:07.794268Z",
     "iopub.status.idle": "2023-05-16T13:35:08.888229Z",
     "shell.execute_reply": "2023-05-16T13:35:08.886672Z"
    },
    "papermill": {
     "duration": 1.105112,
     "end_time": "2023-05-16T13:35:08.891792",
     "exception": false,
     "start_time": "2023-05-16T13:35:07.786680",
     "status": "completed"
    },
    "tags": []
   },
   "outputs": [],
   "source": [
    "import numpy as np \n",
    "import pandas as pd \n",
    "import matplotlib.pyplot as plt\n",
    "import scipy.stats as st\n",
    "import random"
   ]
  },
  {
   "cell_type": "code",
   "execution_count": 2,
   "id": "fd993176",
   "metadata": {
    "execution": {
     "iopub.execute_input": "2023-05-16T13:35:08.899847Z",
     "iopub.status.busy": "2023-05-16T13:35:08.899383Z",
     "iopub.status.idle": "2023-05-16T13:35:08.907472Z",
     "shell.execute_reply": "2023-05-16T13:35:08.906121Z"
    },
    "papermill": {
     "duration": 0.015288,
     "end_time": "2023-05-16T13:35:08.910255",
     "exception": false,
     "start_time": "2023-05-16T13:35:08.894967",
     "status": "completed"
    },
    "tags": []
   },
   "outputs": [],
   "source": [
    "def create_samples(random_start=0,num_of_samples=1,size=1000):\n",
    "\n",
    "    datasets = []\n",
    "    for i in range(random_start,random_start+num_of_samples):\n",
    "        # Set the seed for reproducibility\n",
    "        np.random.seed(i)\n",
    "\n",
    "        # Sample from a population \n",
    "        rng = np.random.default_rng()\n",
    "        sample = rng.choice(10000000, size, replace=False)\n",
    "        datasets.append(sample+1)\n",
    "\n",
    "    return datasets"
   ]
  },
  {
   "cell_type": "code",
   "execution_count": 3,
   "id": "e955ea1b",
   "metadata": {
    "execution": {
     "iopub.execute_input": "2023-05-16T13:35:08.918793Z",
     "iopub.status.busy": "2023-05-16T13:35:08.917961Z",
     "iopub.status.idle": "2023-05-16T13:35:08.931782Z",
     "shell.execute_reply": "2023-05-16T13:35:08.930049Z"
    },
    "papermill": {
     "duration": 0.021831,
     "end_time": "2023-05-16T13:35:08.935060",
     "exception": false,
     "start_time": "2023-05-16T13:35:08.913229",
     "status": "completed"
    },
    "tags": []
   },
   "outputs": [],
   "source": [
    "def full_information_simulate(samples,threshold=0.5,verbose=0):\n",
    "    positives = 0 \n",
    "    stop_index = []\n",
    "    for sample in samples:\n",
    "        dynamic_look_size=0\n",
    "        for instance in sample:\n",
    "            best = np.max(sample)\n",
    "            dynamic_look_size+=1\n",
    "            current_best = np.max(sample[0:dynamic_look_size])\n",
    "            if (verbose>2):\n",
    "                print(\"Candidate No:\",dynamic_look_size,\"Current Best:\",current_best,\"Instance:\",instance)\n",
    "            if(instance==current_best):\n",
    "\n",
    "                prob_worse_next = (instance - dynamic_look_size) / (10000000 - dynamic_look_size)\n",
    "                remaining_size=len(sample)-dynamic_look_size\n",
    "                prob_better_remaining = 1 - (prob_worse_next**remaining_size) \n",
    "                if (verbose>1):\n",
    "                    print(\"Candidate No:\",dynamic_look_size, \"Score: \", instance,\"Prob better remaining: \", prob_better_remaining, \"Rem-size:\",remaining_size  )\n",
    "                # Select if prob better is less than threshold=0.5 \n",
    "                if(prob_better_remaining<threshold):\n",
    "                    if(instance==best):\n",
    "                        if (verbose>0):\n",
    "                            print(\"****WIN******\" )\n",
    "                        positives=positives+1\n",
    "#                     else:\n",
    "#                         print(\"False positive: (Leap)  \", instance, \"-\",leap_max,\"AT:\",dynamic_look_size )\n",
    "                    break\n",
    "\n",
    "        stop_index.append(dynamic_look_size)\n",
    "\n",
    "    accuracy = positives / len(samples)\n",
    "    print(\"\\n*******Win Rate for size:\",len(samples[0]) ,\"treshold:\",threshold,\"% is:\", accuracy,\"*******\" )\n",
    "    return accuracy,stop_index"
   ]
  },
  {
   "cell_type": "code",
   "execution_count": 4,
   "id": "556427b5",
   "metadata": {
    "execution": {
     "iopub.execute_input": "2023-05-16T13:35:08.943667Z",
     "iopub.status.busy": "2023-05-16T13:35:08.942339Z",
     "iopub.status.idle": "2023-05-16T14:16:06.305330Z",
     "shell.execute_reply": "2023-05-16T14:16:06.303763Z"
    },
    "papermill": {
     "duration": 2457.373213,
     "end_time": "2023-05-16T14:16:06.311284",
     "exception": false,
     "start_time": "2023-05-16T13:35:08.938071",
     "status": "completed"
    },
    "tags": []
   },
   "outputs": [
    {
     "name": "stdout",
     "output_type": "stream",
     "text": [
      "\n",
      "*******Win Rate for size: 100 treshold: 0.5 % is: 0.5666 *******\n",
      "\n",
      "*******Win Rate for size: 200 treshold: 0.5 % is: 0.5677 *******\n",
      "\n",
      "*******Win Rate for size: 400 treshold: 0.5 % is: 0.5756 *******\n",
      "\n",
      "*******Win Rate for size: 1000 treshold: 0.5 % is: 0.574 *******\n",
      "\n",
      "*******Win Rate for size: 2000 treshold: 0.5 % is: 0.5707 *******\n",
      "\n",
      "*******Win Rate for size: 5000 treshold: 0.5 % is: 0.5784 *******\n",
      "\n",
      "*******Win Rate for size: 10000 treshold: 0.5 % is: 0.5764 *******\n"
     ]
    }
   ],
   "source": [
    "size_list=[100,200,400,1000,2000,5000,10000]\n",
    "scores=[]\n",
    "for size_c in size_list:\n",
    "    samples = create_samples(random_start=size_c*100,num_of_samples=10000,size=size_c)\n",
    "    acc,stop  = full_information_simulate(samples,0.5,0)\n",
    "    scores.append(acc)"
   ]
  },
  {
   "cell_type": "code",
   "execution_count": 5,
   "id": "64173eda",
   "metadata": {
    "execution": {
     "iopub.execute_input": "2023-05-16T14:16:06.320213Z",
     "iopub.status.busy": "2023-05-16T14:16:06.319769Z",
     "iopub.status.idle": "2023-05-16T14:16:06.612609Z",
     "shell.execute_reply": "2023-05-16T14:16:06.611457Z"
    },
    "papermill": {
     "duration": 0.300657,
     "end_time": "2023-05-16T14:16:06.615460",
     "exception": false,
     "start_time": "2023-05-16T14:16:06.314803",
     "status": "completed"
    },
    "tags": []
   },
   "outputs": [
    {
     "data": {
      "image/png": "[encoded data removed]",
      "text/plain": [
       "<Figure size 640x480 with 1 Axes>"
      ]
     },
     "metadata": {},
     "output_type": "display_data"
    }
   ],
   "source": [
    "#Plot \n",
    "x = size_list\n",
    "y = scores\n",
    "plt.plot(x, y)\n",
    "#set title and x, y - axes labels\n",
    "plt.title('Full Information Case')\n",
    "plt.xlabel('Sample Size')\n",
    "plt.ylabel('Win Rate')\n",
    "plt.grid()"
   ]
  }
 ],
 "metadata": {
  "kernelspec": {
   "display_name": "Python 3",
   "language": "python",
   "name": "python3"
  },
  "language_info": {
   "codemirror_mode": {
    "name": "ipython",
    "version": 3
   },
   "file_extension": ".py",
   "mimetype": "text/x-python",
   "name": "python",
   "nbconvert_exporter": "python",
   "pygments_lexer": "ipython3",
   "version": "3.7.12"
  },
  "papermill": {
   "default_parameters": {},
   "duration": 2474.386662,
   "end_time": "2023-05-16T14:16:07.553431",
   "environment_variables": {},
   "exception": null,
   "input_path": "__notebook__.ipynb",
   "output_path": "__notebook__.ipynb",
   "parameters": {},
   "start_time": "2023-05-16T13:34:53.166769",
   "version": "2.4.0"
  }
 },
 "nbformat": 4,
 "nbformat_minor": 5
}
